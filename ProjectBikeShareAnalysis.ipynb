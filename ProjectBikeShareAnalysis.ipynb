{
  "nbformat": 4,
  "nbformat_minor": 0,
  "metadata": {
    "colab": {
      "name": "ProjectBikeShareAnalysis.ipynb",
      "provenance": [],
      "collapsed_sections": [],
      "authorship_tag": "ABX9TyMQy3S4LESJts+6Zm6NHJ80"
    },
    "kernelspec": {
      "name": "python3",
      "display_name": "Python 3"
    },
    "language_info": {
      "name": "python"
    }
  },
  "cells": [
    {
      "cell_type": "markdown",
      "metadata": {
        "id": "NyYP9JcsPiV2"
      },
      "source": [
        "##***BIKE SHARE ANALYSIS***\n",
        "\n",
        "##***PROJECT 1:***\n",
        "\n",
        "##***SUBMITTED BY Selvakrishnan R***\n",
        "\n",
        "#***IMPORT PYTHON PACKAGES***\n"
      ]
    },
    {
      "cell_type": "code",
      "metadata": {
        "id": "zHuAWzXMe4T-"
      },
      "source": [
        "import pandas as pd # pandas for data manipulation and processing\n",
        "import numpy as np\n",
        "%matplotlib inline\n",
        "import seaborn as sns # seaborn for visualizations"
      ],
      "execution_count": null,
      "outputs": []
    },
    {
      "cell_type": "markdown",
      "metadata": {
        "id": "-w5LpnoNQZLX"
      },
      "source": [
        "#***DATA EXPLORATION AND INSIGHTS***"
      ]
    },
    {
      "cell_type": "markdown",
      "metadata": {
        "id": "sunCIHg2oOEj"
      },
      "source": [
        "# 1. Any particular bikes which were used a lot?\n",
        "\n",
        "\n",
        "> My definition of particular bikes which used a lot is a follows.\n",
        "- This block helps to identify the top 5 specific bikes which were used most  often with bike_number and with maximum count of no of trips count which these bikes went far.\n",
        "- By having the list of specific bike_number which done maximum trips it helps us to identify the bike condition whether it operates in a good manner or do we need to replace the most rided bike with new one or do we need perform the complete bike health checkup. In order to reduce the risks of bike failure in a trip. \n",
        "- So by getting the list of most used bikes it helps us to replace the most used bike with new bike or bike health service can be done for most used bikes which will be helpful in reducing the accident or Bike Failure.\n",
        "\n"
      ]
    },
    {
      "cell_type": "code",
      "metadata": {
        "id": "NxMM2ZpcoBeu"
      },
      "source": [
        "%%bigquery --project fresh-electron-305718 particular_bikes\n",
        "SELECT bike_number,Count(*) AS trip_count FROM `bigquery-public-data.san_francisco.bikeshare_trips` GROUP BY\n",
        "  bike_number\n",
        "HAVING\n",
        "  bike_number is NOT Null\n",
        "ORDER BY\n",
        "  trip_count DESC\n",
        "  LIMIT 5"
      ],
      "execution_count": null,
      "outputs": []
    },
    {
      "cell_type": "code",
      "metadata": {
        "colab": {
          "base_uri": "https://localhost:8080/",
          "height": 204
        },
        "id": "sK8oOohFoSVh",
        "outputId": "38dbb0c7-3b72-497c-9e87-58b6da43a4f5"
      },
      "source": [
        "particular_bikes.filter([\"bike_number\", \"trip_count\"]).head()\n"
      ],
      "execution_count": null,
      "outputs": [
        {
          "output_type": "execute_result",
          "data": {
            "text/html": [
              "<div>\n",
              "<style scoped>\n",
              "    .dataframe tbody tr th:only-of-type {\n",
              "        vertical-align: middle;\n",
              "    }\n",
              "\n",
              "    .dataframe tbody tr th {\n",
              "        vertical-align: top;\n",
              "    }\n",
              "\n",
              "    .dataframe thead th {\n",
              "        text-align: right;\n",
              "    }\n",
              "</style>\n",
              "<table border=\"1\" class=\"dataframe\">\n",
              "  <thead>\n",
              "    <tr style=\"text-align: right;\">\n",
              "      <th></th>\n",
              "      <th>bike_number</th>\n",
              "      <th>trip_count</th>\n",
              "    </tr>\n",
              "  </thead>\n",
              "  <tbody>\n",
              "    <tr>\n",
              "      <th>0</th>\n",
              "      <td>389</td>\n",
              "      <td>2872</td>\n",
              "    </tr>\n",
              "    <tr>\n",
              "      <th>1</th>\n",
              "      <td>524</td>\n",
              "      <td>2853</td>\n",
              "    </tr>\n",
              "    <tr>\n",
              "      <th>2</th>\n",
              "      <td>392</td>\n",
              "      <td>2853</td>\n",
              "    </tr>\n",
              "    <tr>\n",
              "      <th>3</th>\n",
              "      <td>503</td>\n",
              "      <td>2845</td>\n",
              "    </tr>\n",
              "    <tr>\n",
              "      <th>4</th>\n",
              "      <td>328</td>\n",
              "      <td>2827</td>\n",
              "    </tr>\n",
              "  </tbody>\n",
              "</table>\n",
              "</div>"
            ],
            "text/plain": [
              "   bike_number  trip_count\n",
              "0          389        2872\n",
              "1          524        2853\n",
              "2          392        2853\n",
              "3          503        2845\n",
              "4          328        2827"
            ]
          },
          "metadata": {},
          "execution_count": 129
        }
      ]
    },
    {
      "cell_type": "code",
      "metadata": {
        "colab": {
          "base_uri": "https://localhost:8080/",
          "height": 400
        },
        "id": "nSMMiReOUgIN",
        "outputId": "3f78e98e-6ceb-465d-e8b3-a6ee6081551f"
      },
      "source": [
        "ax = sns.barplot(particular_bikes[\"bike_number\"],particular_bikes[\"trip_count\"],palette = 'hls',color = 'tab:purple')\n",
        "ax.set(xlabel = \"Bike Number\", ylabel = \"Trips Count\", title = \"Top 5 Particular Bikes which used the Most\")"
      ],
      "execution_count": null,
      "outputs": [
        {
          "output_type": "stream",
          "name": "stderr",
          "text": [
            "/usr/local/lib/python3.7/dist-packages/seaborn/_decorators.py:43: FutureWarning: Pass the following variables as keyword args: x, y. From version 0.12, the only valid positional argument will be `data`, and passing other arguments without an explicit keyword will result in an error or misinterpretation.\n",
            "  FutureWarning\n"
          ]
        },
        {
          "output_type": "execute_result",
          "data": {
            "text/plain": [
              "[Text(0, 0.5, 'Trips Count'),\n",
              " Text(0.5, 0, 'Bike Number'),\n",
              " Text(0.5, 1.0, 'Top 5 Particular Bikes which used the Most')]"
            ]
          },
          "metadata": {},
          "execution_count": 82
        },
        {
          "output_type": "display_data",
          "data": {
            "image/png": "[encoded data removed]",
            "text/plain": [
              "<Figure size 432x288 with 1 Axes>"
            ]
          },
          "metadata": {
            "needs_background": "light"
          }
        }
      ]
    },
    {
      "cell_type": "markdown",
      "metadata": {
        "id": "6RA05QVSo3ZF"
      },
      "source": [
        "#2. Did the bike_number = \"389\" frequently start a ride from a particular station?"
      ]
    },
    {
      "cell_type": "markdown",
      "metadata": {
        "id": "AjL7oPD_fnYz"
      },
      "source": [
        "The below analysis helps us to find the frequent start ride for a specific bike number in a particular locations is as follows.\n",
        "- There might be a case you would like to find a specific bike which frequently starts in a specific location.\n",
        "- There might be some people who regularly like to ride the same vehicle in the same station. So this analysis helps us to identify the frequent start ride from a particular location for a specific Bike.\n"
      ]
    },
    {
      "cell_type": "code",
      "metadata": {
        "id": "a9pjuwJPpA95"
      },
      "source": [
        "%%bigquery --project fresh-electron-305718 particular_location\n",
        "SELECT\n",
        "  start_station_id, \n",
        "  SUM(CASE\n",
        "      WHEN bike_number = 389 THEN 1\n",
        "  END\n",
        "    ) AS bike_number_389,\n",
        "FROM\n",
        "  `bigquery-public-data.san_francisco.bikeshare_trips`\n",
        "where bike_number = 389\n",
        "GROUP BY start_station_id\n",
        "ORDER BY bike_number_389 DESC\n",
        "LIMIT 5\n"
      ],
      "execution_count": null,
      "outputs": []
    },
    {
      "cell_type": "code",
      "metadata": {
        "colab": {
          "base_uri": "https://localhost:8080/",
          "height": 204
        },
        "id": "1tw5CHLhpOLG",
        "outputId": "27b4d1d0-29b4-4c2f-a527-0e0cc9a5e195"
      },
      "source": [
        "particular_location.filter([\"start_station_id\", \"bike_number_389\"]).head()"
      ],
      "execution_count": null,
      "outputs": [
        {
          "output_type": "execute_result",
          "data": {
            "text/html": [
              "<div>\n",
              "<style scoped>\n",
              "    .dataframe tbody tr th:only-of-type {\n",
              "        vertical-align: middle;\n",
              "    }\n",
              "\n",
              "    .dataframe tbody tr th {\n",
              "        vertical-align: top;\n",
              "    }\n",
              "\n",
              "    .dataframe thead th {\n",
              "        text-align: right;\n",
              "    }\n",
              "</style>\n",
              "<table border=\"1\" class=\"dataframe\">\n",
              "  <thead>\n",
              "    <tr style=\"text-align: right;\">\n",
              "      <th></th>\n",
              "      <th>start_station_id</th>\n",
              "      <th>bike_number_389</th>\n",
              "    </tr>\n",
              "  </thead>\n",
              "  <tbody>\n",
              "    <tr>\n",
              "      <th>0</th>\n",
              "      <td>70</td>\n",
              "      <td>254</td>\n",
              "    </tr>\n",
              "    <tr>\n",
              "      <th>1</th>\n",
              "      <td>69</td>\n",
              "      <td>179</td>\n",
              "    </tr>\n",
              "    <tr>\n",
              "      <th>2</th>\n",
              "      <td>50</td>\n",
              "      <td>153</td>\n",
              "    </tr>\n",
              "    <tr>\n",
              "      <th>3</th>\n",
              "      <td>60</td>\n",
              "      <td>150</td>\n",
              "    </tr>\n",
              "    <tr>\n",
              "      <th>4</th>\n",
              "      <td>61</td>\n",
              "      <td>135</td>\n",
              "    </tr>\n",
              "  </tbody>\n",
              "</table>\n",
              "</div>"
            ],
            "text/plain": [
              "   start_station_id  bike_number_389\n",
              "0                70              254\n",
              "1                69              179\n",
              "2                50              153\n",
              "3                60              150\n",
              "4                61              135"
            ]
          },
          "metadata": {},
          "execution_count": 85
        }
      ]
    },
    {
      "cell_type": "code",
      "metadata": {
        "colab": {
          "base_uri": "https://localhost:8080/",
          "height": 400
        },
        "id": "TcsOkHxMfIsS",
        "outputId": "96436b7e-1bd8-434f-8eae-4e4451c63c83"
      },
      "source": [
        "ax = sns.barplot(particular_location[\"bike_number_389\"],particular_location[\"start_station_id\"],palette = 'hls',color = 'tab:purple')\n",
        "ax.set(xlabel = \"Bike Number 389 Count used in Each Station\", ylabel = \"Start Station ID\", title = \"Frequently Used Bikes in a Particular Location\")"
      ],
      "execution_count": null,
      "outputs": [
        {
          "output_type": "stream",
          "name": "stderr",
          "text": [
            "/usr/local/lib/python3.7/dist-packages/seaborn/_decorators.py:43: FutureWarning: Pass the following variables as keyword args: x, y. From version 0.12, the only valid positional argument will be `data`, and passing other arguments without an explicit keyword will result in an error or misinterpretation.\n",
            "  FutureWarning\n"
          ]
        },
        {
          "output_type": "execute_result",
          "data": {
            "text/plain": [
              "[Text(0, 0.5, 'Start Station ID'),\n",
              " Text(0.5, 0, 'Bike Number 389 Count used in Each Station'),\n",
              " Text(0.5, 1.0, 'Frequently Used Bikes in a Particular Location')]"
            ]
          },
          "metadata": {},
          "execution_count": 114
        },
        {
          "output_type": "display_data",
          "data": {
            "image/png": "[encoded data removed]",
            "text/plain": [
              "<Figure size 432x288 with 1 Axes>"
            ]
          },
          "metadata": {
            "needs_background": "light"
          }
        }
      ]
    },
    {
      "cell_type": "markdown",
      "metadata": {
        "id": "4au_2_PGqWnA"
      },
      "source": [
        "# 3. What are some popular routes?"
      ]
    },
    {
      "cell_type": "markdown",
      "metadata": {
        "id": "lJ3jWZupitZy"
      },
      "source": [
        "\n",
        "\n",
        ">My definition for some popular routes is as follows.\n",
        "- By listing the popular routes we can able to increase the Customers by providing the bikes in those specific stations with an discount offers.\n",
        "- This analysis will give us a best profit.\n",
        "\n"
      ]
    },
    {
      "cell_type": "code",
      "metadata": {
        "id": "R0_qmalZqaxy"
      },
      "source": [
        "%%bigquery --project fresh-electron-305718 popular_routes\n",
        "SELECT\n",
        "  start_station_id,\n",
        "  end_station_id,\n",
        "  COUNT(*) AS Trips_on_route\n",
        "FROM\n",
        "  `bigquery-public-data.san_francisco.bikeshare_trips`\n",
        "WHERE\n",
        "  (start_station_id != end_station_id) \n",
        "GROUP BY\n",
        "  start_station_id,\n",
        "  end_station_id\n",
        "ORDER BY\n",
        "  Trips_on_route DESC\n",
        "LIMIT\n",
        "  5\n"
      ],
      "execution_count": null,
      "outputs": []
    },
    {
      "cell_type": "code",
      "metadata": {
        "colab": {
          "base_uri": "https://localhost:8080/",
          "height": 204
        },
        "id": "EAOgdDiFtSW1",
        "outputId": "44c3f0bd-9434-4a5a-838e-8741e9381899"
      },
      "source": [
        "popular_routes.filter([\"start_station_id\", \"end_station_id\",\"Trips_on_route\"]).head()"
      ],
      "execution_count": null,
      "outputs": [
        {
          "output_type": "execute_result",
          "data": {
            "text/html": [
              "<div>\n",
              "<style scoped>\n",
              "    .dataframe tbody tr th:only-of-type {\n",
              "        vertical-align: middle;\n",
              "    }\n",
              "\n",
              "    .dataframe tbody tr th {\n",
              "        vertical-align: top;\n",
              "    }\n",
              "\n",
              "    .dataframe thead th {\n",
              "        text-align: right;\n",
              "    }\n",
              "</style>\n",
              "<table border=\"1\" class=\"dataframe\">\n",
              "  <thead>\n",
              "    <tr style=\"text-align: right;\">\n",
              "      <th></th>\n",
              "      <th>start_station_id</th>\n",
              "      <th>end_station_id</th>\n",
              "      <th>Trips_on_route</th>\n",
              "    </tr>\n",
              "  </thead>\n",
              "  <tbody>\n",
              "    <tr>\n",
              "      <th>0</th>\n",
              "      <td>50</td>\n",
              "      <td>60</td>\n",
              "      <td>9150</td>\n",
              "    </tr>\n",
              "    <tr>\n",
              "      <th>1</th>\n",
              "      <td>69</td>\n",
              "      <td>65</td>\n",
              "      <td>8508</td>\n",
              "    </tr>\n",
              "    <tr>\n",
              "      <th>2</th>\n",
              "      <td>61</td>\n",
              "      <td>50</td>\n",
              "      <td>7620</td>\n",
              "    </tr>\n",
              "    <tr>\n",
              "      <th>3</th>\n",
              "      <td>50</td>\n",
              "      <td>61</td>\n",
              "      <td>6888</td>\n",
              "    </tr>\n",
              "    <tr>\n",
              "      <th>4</th>\n",
              "      <td>60</td>\n",
              "      <td>74</td>\n",
              "      <td>6874</td>\n",
              "    </tr>\n",
              "  </tbody>\n",
              "</table>\n",
              "</div>"
            ],
            "text/plain": [
              "   start_station_id  end_station_id  Trips_on_route\n",
              "0                50              60            9150\n",
              "1                69              65            8508\n",
              "2                61              50            7620\n",
              "3                50              61            6888\n",
              "4                60              74            6874"
            ]
          },
          "metadata": {},
          "execution_count": 98
        }
      ]
    },
    {
      "cell_type": "code",
      "metadata": {
        "colab": {
          "base_uri": "https://localhost:8080/",
          "height": 400
        },
        "id": "9tktKXXduGlH",
        "outputId": "5060b858-60f8-442b-8a28-e43755e98c9f"
      },
      "source": [
        "ax = sns.barplot(popular_routes[\"start_station_id\"],popular_routes[\"Trips_on_route\"],palette = 'hls',color = 'tab:purple')\n",
        "ax.set(xlabel = \"Start Station ID\", ylabel = \"Total Trips Count on Specifc Station\", title = \"Most Popular Routes\")"
      ],
      "execution_count": null,
      "outputs": [
        {
          "output_type": "stream",
          "name": "stderr",
          "text": [
            "/usr/local/lib/python3.7/dist-packages/seaborn/_decorators.py:43: FutureWarning: Pass the following variables as keyword args: x, y. From version 0.12, the only valid positional argument will be `data`, and passing other arguments without an explicit keyword will result in an error or misinterpretation.\n",
            "  FutureWarning\n"
          ]
        },
        {
          "output_type": "execute_result",
          "data": {
            "text/plain": [
              "[Text(0, 0.5, 'Total Trips Count on Specifc Station'),\n",
              " Text(0.5, 0, 'Start Station ID'),\n",
              " Text(0.5, 1.0, 'Most Popular Routes')]"
            ]
          },
          "metadata": {},
          "execution_count": 112
        },
        {
          "output_type": "display_data",
          "data": {
            "image/png": "[encoded data removed]",
            "text/plain": [
              "<Figure size 432x288 with 1 Axes>"
            ]
          },
          "metadata": {
            "needs_background": "light"
          }
        }
      ]
    },
    {
      "cell_type": "markdown",
      "metadata": {
        "id": "gtUxJRNAtc7S"
      },
      "source": [
        "# 4. Filter out the bike trips which are  60 minutes or more?"
      ]
    },
    {
      "cell_type": "markdown",
      "metadata": {
        "id": "dS3TOklxw1ds"
      },
      "source": [
        "\n",
        "\n",
        "> The below analysis helps us to find out the bike trips which are 60 Minutes or More.\n",
        "- It helps us to find the subscriber type (i.e., Customer or Subscriber) who is riding the vehicle for 60 minutes or more than 60 minutes.\n",
        "- Here we can able to analyse whether already subscribed customer is driving more than 60 minutes, or new customers driving the vechicle for more than 60 minutes. Here new customer wins.\n",
        "- From the below analysis we can able to understand new customers are riding the vehicle for 60 mintues or more than 60 minutes.\n",
        "\n",
        "\n"
      ]
    },
    {
      "cell_type": "code",
      "metadata": {
        "id": "KN9FBs1nthC6"
      },
      "source": [
        "%%bigquery --project fresh-electron-305718 bike_trips\n",
        "SELECT\n",
        "  subscriber_type,\n",
        "  start_date,\n",
        "  duration_sec\n",
        "FROM\n",
        "  `bigquery-public-data.san_francisco.bikeshare_trips`\n",
        "WHERE\n",
        "  duration_sec >= 3600\n",
        "LIMIT\n",
        " 5\n"
      ],
      "execution_count": null,
      "outputs": []
    },
    {
      "cell_type": "code",
      "metadata": {
        "colab": {
          "base_uri": "https://localhost:8080/",
          "height": 204
        },
        "id": "IC3-bU5rPEJ_",
        "outputId": "ef066832-ef0e-4771-9ee0-ecc469854409"
      },
      "source": [
        "bike_trips.filter([\"subscriber_type\", \"start_date\",\"duration_sec\"]).head()"
      ],
      "execution_count": null,
      "outputs": [
        {
          "output_type": "execute_result",
          "data": {
            "text/html": [
              "<div>\n",
              "<style scoped>\n",
              "    .dataframe tbody tr th:only-of-type {\n",
              "        vertical-align: middle;\n",
              "    }\n",
              "\n",
              "    .dataframe tbody tr th {\n",
              "        vertical-align: top;\n",
              "    }\n",
              "\n",
              "    .dataframe thead th {\n",
              "        text-align: right;\n",
              "    }\n",
              "</style>\n",
              "<table border=\"1\" class=\"dataframe\">\n",
              "  <thead>\n",
              "    <tr style=\"text-align: right;\">\n",
              "      <th></th>\n",
              "      <th>subscriber_type</th>\n",
              "      <th>start_date</th>\n",
              "      <th>duration_sec</th>\n",
              "    </tr>\n",
              "  </thead>\n",
              "  <tbody>\n",
              "    <tr>\n",
              "      <th>0</th>\n",
              "      <td>Customer</td>\n",
              "      <td>2015-10-25 18:12:00+00:00</td>\n",
              "      <td>5957</td>\n",
              "    </tr>\n",
              "    <tr>\n",
              "      <th>1</th>\n",
              "      <td>Customer</td>\n",
              "      <td>2015-10-25 18:13:00+00:00</td>\n",
              "      <td>5913</td>\n",
              "    </tr>\n",
              "    <tr>\n",
              "      <th>2</th>\n",
              "      <td>Customer</td>\n",
              "      <td>2016-03-18 10:33:00+00:00</td>\n",
              "      <td>6079</td>\n",
              "    </tr>\n",
              "    <tr>\n",
              "      <th>3</th>\n",
              "      <td>Customer</td>\n",
              "      <td>2015-12-06 10:52:00+00:00</td>\n",
              "      <td>5780</td>\n",
              "    </tr>\n",
              "    <tr>\n",
              "      <th>4</th>\n",
              "      <td>Customer</td>\n",
              "      <td>2016-03-18 10:33:00+00:00</td>\n",
              "      <td>6032</td>\n",
              "    </tr>\n",
              "  </tbody>\n",
              "</table>\n",
              "</div>"
            ],
            "text/plain": [
              "  subscriber_type                start_date  duration_sec\n",
              "0        Customer 2015-10-25 18:12:00+00:00          5957\n",
              "1        Customer 2015-10-25 18:13:00+00:00          5913\n",
              "2        Customer 2016-03-18 10:33:00+00:00          6079\n",
              "3        Customer 2015-12-06 10:52:00+00:00          5780\n",
              "4        Customer 2016-03-18 10:33:00+00:00          6032"
            ]
          },
          "metadata": {},
          "execution_count": 118
        }
      ]
    },
    {
      "cell_type": "code",
      "metadata": {
        "colab": {
          "base_uri": "https://localhost:8080/",
          "height": 400
        },
        "id": "PqYIIroQyhsi",
        "outputId": "0ef06001-d2c1-466f-aa25-9c34bc5f9b6f"
      },
      "source": [
        "ax = sns.barplot(bike_trips[\"duration_sec\"],bike_trips[\"subscriber_type\"],palette = 'hls',color = 'tab:purple')\n",
        "ax.set(xlabel = \"Duration in Sec\", ylabel = \"\", title = \"Bike Trips which are 60 Mins or More than 60 Mins\")"
      ],
      "execution_count": null,
      "outputs": [
        {
          "output_type": "stream",
          "name": "stderr",
          "text": [
            "/usr/local/lib/python3.7/dist-packages/seaborn/_decorators.py:43: FutureWarning: Pass the following variables as keyword args: x, y. From version 0.12, the only valid positional argument will be `data`, and passing other arguments without an explicit keyword will result in an error or misinterpretation.\n",
            "  FutureWarning\n"
          ]
        },
        {
          "output_type": "execute_result",
          "data": {
            "text/plain": [
              "[Text(0, 0.5, ''),\n",
              " Text(0.5, 0, 'Duration in Sec'),\n",
              " Text(0.5, 1.0, 'Bike Trips which are 60 Mins or More than 60 Mins')]"
            ]
          },
          "metadata": {},
          "execution_count": 122
        },
        {
          "output_type": "display_data",
          "data": {
            "image/png": "[encoded data removed]",
            "text/plain": [
              "<Figure size 432x288 with 1 Axes>"
            ]
          },
          "metadata": {
            "needs_background": "light"
          }
        }
      ]
    },
    {
      "cell_type": "markdown",
      "metadata": {
        "id": "C6Xg75r8PKWU"
      },
      "source": [
        "# 5. Do unregistered users take longer or shorter trips?"
      ]
    },
    {
      "cell_type": "markdown",
      "metadata": {
        "id": "Qr4SOiCyzIF6"
      },
      "source": [
        "\n",
        "\n",
        "> The below analysis helps us to find does unregistered users take longer or shorter trips.\n",
        "- By performing the average duration for the subscriber type, we can able to understand that unregistered users (i.e., Customer) is taking longer trips than subscriber.\n",
        "\n"
      ]
    },
    {
      "cell_type": "code",
      "metadata": {
        "id": "qFZmiTqkPNsk"
      },
      "source": [
        "%%bigquery --project fresh-electron-305718 unregistered_users\n",
        "SELECT\n",
        "  subscriber_type,\n",
        "  AVG(duration_sec)/60 AS Average_Duration\n",
        "FROM\n",
        "  `bigquery-public-data.san_francisco_bikeshare.bikeshare_trips`\n",
        "GROUP BY\n",
        "  Subscriber_type\n",
        "  LIMIT\n",
        "  5\n"
      ],
      "execution_count": null,
      "outputs": []
    },
    {
      "cell_type": "code",
      "metadata": {
        "colab": {
          "base_uri": "https://localhost:8080/",
          "height": 111
        },
        "id": "-4dm-vU_PXKr",
        "outputId": "2f49c051-a5d9-4197-87ea-03b2d0db6335"
      },
      "source": [
        "unregistered_users.filter([\"subscriber_type\", \"Average_Duration\"]).head()"
      ],
      "execution_count": null,
      "outputs": [
        {
          "output_type": "execute_result",
          "data": {
            "text/html": [
              "<div>\n",
              "<style scoped>\n",
              "    .dataframe tbody tr th:only-of-type {\n",
              "        vertical-align: middle;\n",
              "    }\n",
              "\n",
              "    .dataframe tbody tr th {\n",
              "        vertical-align: top;\n",
              "    }\n",
              "\n",
              "    .dataframe thead th {\n",
              "        text-align: right;\n",
              "    }\n",
              "</style>\n",
              "<table border=\"1\" class=\"dataframe\">\n",
              "  <thead>\n",
              "    <tr style=\"text-align: right;\">\n",
              "      <th></th>\n",
              "      <th>subscriber_type</th>\n",
              "      <th>Average_Duration</th>\n",
              "    </tr>\n",
              "  </thead>\n",
              "  <tbody>\n",
              "    <tr>\n",
              "      <th>0</th>\n",
              "      <td>Subscriber</td>\n",
              "      <td>10.470441</td>\n",
              "    </tr>\n",
              "    <tr>\n",
              "      <th>1</th>\n",
              "      <td>Customer</td>\n",
              "      <td>49.978509</td>\n",
              "    </tr>\n",
              "  </tbody>\n",
              "</table>\n",
              "</div>"
            ],
            "text/plain": [
              "  subscriber_type  Average_Duration\n",
              "0      Subscriber         10.470441\n",
              "1        Customer         49.978509"
            ]
          },
          "metadata": {},
          "execution_count": 125
        }
      ]
    },
    {
      "cell_type": "code",
      "metadata": {
        "colab": {
          "base_uri": "https://localhost:8080/",
          "height": 400
        },
        "id": "loJEgJGIzxXL",
        "outputId": "1a995047-532e-46d7-e3e8-3cbac253bb93"
      },
      "source": [
        "ax = sns.barplot(unregistered_users[\"Average_Duration\"],unregistered_users[\"subscriber_type\"],palette = 'hls',color = 'tab:purple')\n",
        "ax.set(xlabel = \"AVG Duration in Sec\", ylabel = \"\", title = \"Do unregistered users take longer or shorter trips\")"
      ],
      "execution_count": null,
      "outputs": [
        {
          "output_type": "stream",
          "name": "stderr",
          "text": [
            "/usr/local/lib/python3.7/dist-packages/seaborn/_decorators.py:43: FutureWarning: Pass the following variables as keyword args: x, y. From version 0.12, the only valid positional argument will be `data`, and passing other arguments without an explicit keyword will result in an error or misinterpretation.\n",
            "  FutureWarning\n"
          ]
        },
        {
          "output_type": "execute_result",
          "data": {
            "text/plain": [
              "[Text(0, 0.5, ''),\n",
              " Text(0.5, 0, 'AVG Duration in Sec'),\n",
              " Text(0.5, 1.0, 'Do unregistered users take longer or shorter trips')]"
            ]
          },
          "metadata": {},
          "execution_count": 127
        },
        {
          "output_type": "display_data",
          "data": {
            "image/png": "[encoded data removed]",
            "text/plain": [
              "<Figure size 432x288 with 1 Axes>"
            ]
          },
          "metadata": {
            "needs_background": "light"
          }
        }
      ]
    }
  ]
}